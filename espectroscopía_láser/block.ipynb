{
 "cells": [
  {
   "cell_type": "code",
   "execution_count": null,
   "metadata": {},
   "outputs": [],
   "source": [
    "cargar_datos_2(n, i, ruta, a)\n",
    "\n",
    "#uso los dos extremos de la parte lineal para ajustar\n",
    "A = 500\n",
    "B = 1000\n",
    "\n",
    "C = 1900\n",
    "D = 2400\n",
    "\n",
    "voltajes_intervalos_a = np.concatenate([voltajes1_a[A:B], voltajes1_a[C:D]])\n",
    "tiempos_intervalos_a = np.concatenate([tiempos1_a[A:B], tiempos1_a[C:D]])\n",
    "\n",
    "#Cuando se vea la recta, hago el ajuste:\n",
    "\n",
    "param_iniciales = [0.01, 0]\n",
    "popt_0, pcov_0 = curve_fit(lineal, tiempos_intervalos,voltajes_intervalos, p0=param_iniciales, sigma = error_Ch1, absolute_sigma=True)\n",
    "incertidumbre_0 = np.sqrt(np.diag(pcov_0))\n",
    "\n",
    "tabla = pd.DataFrame({\n",
    "        'Los parametros óptimos son': popt_0,\n",
    "        'Los errores de los parámetros son': incertidumbre_0,\n",
    "        })\n",
    "print(tabla)\n",
    "\n",
    "t_espectro_a = tiempos1_a[B,C] #así ya está recortado\n",
    "espectro_a = (voltajes1_a - lineal(x_fit_n, *popt_0))[B,C] \n",
    "\n",
    "\n",
    "#inertimos, para graficar la absorción en función del tiempo\n",
    "#Y normalizamos para que el pico de mayor amplitud valga 1\n",
    "espectro_a_inv = espectro_a * (-1)\n",
    "espectro_a_norm = espectro_a / np.max(espectro_a)\n",
    "\n",
    "\n",
    "\n",
    "graficar_4_subplots(tiempos1_a, voltajes1_a, tiempos_intervalos_a, voltajes_intervalos_a, t_escpectro_a, espectro_a, t_escpectro_a, espectro_a_norm)\n",
    "\n"
   ]
  }
 ],
 "metadata": {
  "language_info": {
   "name": "python"
  }
 },
 "nbformat": 4,
 "nbformat_minor": 2
}
