{
 "cells": [
  {
   "cell_type": "markdown",
   "metadata": {},
   "source": [
    "Códigos para estudiar la visión en color humana\n",
    "Vamos a analizar dos espectros que para la vista humana generan el mismo color. A cada uno vamos a multiplicarlos por las eficiencias tabuladas de los conos del ojo humano, e integrarlos en las longitudes de onda, obteniendo tres números. Vamos a comparar estos tres números entre los dos espectros, y no deberían tener diferencias significativas."
   ]
  },
  {
   "cell_type": "code",
   "execution_count": 1,
   "metadata": {},
   "outputs": [],
   "source": [
    "import numpy as np\n",
    "import matplotlib.pyplot as plt\n",
    "import pandas as pd\n",
    "\n",
    "import glob\n",
    "import matplotlib.ticker as ticker\n",
    "\n",
    "import matplotlib as mpl\n",
    "\n",
    "mpl.rcParams['figure.figsize'] = [7, 4]   # Ancho x Alto en pulgadas\n",
    "\n",
    "from scipy.interpolate import UnivariateSpline"
   ]
  },
  {
   "cell_type": "code",
   "execution_count": 95,
   "metadata": {},
   "outputs": [],
   "source": [
    "\n",
    "def cargar_datos(ruta):\n",
    "\n",
    "    if ruta.endswith('.txt'):\n",
    "        # Leer el archivo .txt como si fuera un CSV separado por ;\n",
    "        df = pd.read_csv(ruta, sep=';', header=None, skiprows=1)# le pongo skiprows porque si no no sé por que no empieza igual que los csv\n",
    "\n",
    "        # Convertir cada columna a un array unidimensional de numpy\n",
    "        columna1_data = df[0].to_numpy()\n",
    "        columna2_data = df[1].to_numpy()\n",
    "\n",
    "    else:\n",
    "        df = pd.read_csv(ruta, skiprows=53)\n",
    "\n",
    "        # Seleccionar las dos primeras columnas a partir de la fila 54\n",
    "        # Recuerda que en pandas los índices empiezan en 0, por lo que la fila 54 es el índice 53\n",
    "        columna1_data = df.iloc[0:-1, 0]\n",
    "        columna2_data = df.iloc[0:-1, 1]\n",
    "\n",
    "    # Convertir los datos a arrays de NumPy\n",
    "    array_columna1 = np.array(columna1_data)\n",
    "    array_columna2 = np.array(columna2_data)\n",
    "\n",
    "    #son strings asique los hago float\n",
    "    lambdas = [float(x) for x in array_columna1]\n",
    "    intensidad = [float(x) for x in array_columna2]\n",
    "\n",
    "    return lambdas, intensidad\n",
    "\n",
    "\n",
    "\n",
    "#para obtener sólo las intensidades\n",
    "def cargar_señal(ruta):\n",
    "\n",
    "    if ruta.endswith('.txt'):\n",
    "        \n",
    "        df = pd.read_csv(ruta, sep=';', header=None, skiprows=1)# le pongo skiprows porque si no no sé por que no empieza igual que los csv\n",
    "\n",
    "        # Convertir cada columna a un array unidimensional de numpy\n",
    "        columna2_data = df[1].to_numpy()\n",
    "\n",
    "    else:\n",
    "        df = pd.read_csv(ruta, skiprows=53)\n",
    "\n",
    "        # Seleccionar las dos primeras columnas a partir de la fila 54\n",
    "        # Recuerda que en pandas los índices empiezan en 0, por lo que la fila 54 es el índice 53\n",
    "        columna2_data = df.iloc[0:-1, 1]\n",
    "\n",
    "    # Convertir los datos a arrays de NumPy\n",
    "    array_columna2 = np.array(columna2_data)\n",
    "\n",
    "    #son strings asique los hago float\n",
    "    intensidad = [float(x) for x in array_columna2]\n",
    "\n",
    "    return intensidad\n",
    "\n",
    "\n",
    "def desviaciones(ruta_carpeta_con_csvs, txt = False):\n",
    "\n",
    "    if txt:\n",
    "        archivos = sorted(glob.glob(ruta_carpeta_con_csvs + \"/*.txt\"))\n",
    "\n",
    "        # Cargar todos los datos en una lista\n",
    "        datos = [cargar_señal(f) for f in archivos]\n",
    "\n",
    "        # Convertir a un array 2D: shape (num_archivos, largo_señal)\n",
    "        matriz = np.stack(datos)\n",
    "\n",
    "        # Calcular la desviación estándar en cada punto (a lo largo de los archivos)\n",
    "        desv_std = np.std(matriz, axis=0)\n",
    "\n",
    "    else:\n",
    "\n",
    "        archivos = sorted(glob.glob(ruta_carpeta_con_csvs + \"/*.csv\"))\n",
    "\n",
    "        # Cargar todos los datos en una lista\n",
    "        datos = [cargar_señal(f) for f in archivos]\n",
    "\n",
    "        # Convertir a un array 2D: shape (num_archivos, largo_señal)\n",
    "        matriz = np.stack(datos)\n",
    "\n",
    "        # Calcular la desviación estándar en cada punto (a lo largo de los archivos)\n",
    "        desv_std = np.std(matriz, axis=0)\n",
    "\n",
    "\n",
    "    return desv_std\n",
    "\n",
    "\n",
    "def filtro_rango_eficiencia(lambdas, espectro, err_espectro, inferior, superior):\n",
    "\n",
    "        \n",
    "    # Encontrar el primer índice donde a >= 460\n",
    "    idx_inferior = np.searchsorted(lambdas, inferior)\n",
    "    idx_superior = np.searchsorted(lambdas, superior)\n",
    "\n",
    "    lambdas_filtrados = lambdas[idx_inferior:idx_superior]\n",
    "    espectro_filtrado = espectro[idx_inferior:idx_superior]\n",
    "    err_espectro_filtrado = err_espectro[idx_inferior:idx_superior]\n",
    "\n",
    "    return lambdas_filtrados, espectro_filtrado, err_espectro_filtrado\n",
    "\n",
    "\n",
    "# le pasás la medición del promedio, la carpeta para los errores, la ruta del csv de las eficiencias y\n",
    "# los límites con los que calculaste esa eficiencia, y te devuelve el espectro 'real' en ese intervalo\n",
    "\n",
    "def eficientizar(ruta_espectro, ruta_carpeta_errores, ruta_eficiencia_csv, inferior, superior, txt =False):\n",
    "\n",
    "\n",
    "    lambdas, espectro = cargar_datos(ruta_espectro)\n",
    "    err_espectro = desviaciones(ruta_carpeta_errores, txt = txt)\n",
    "\n",
    "    # normalizo el espectro medido # lo saqué porque sino no podemos comparar\n",
    "    espectro = espectro / np.max(espectro)\n",
    "    err_espectro = err_espectro / np.max(espectro)\n",
    "\n",
    "    #filtro en el rango elegido\n",
    "    lambdas_filtrados, espectro_filtrado, err_espectro_filtrado = filtro_rango_eficiencia(lambdas, espectro, err_espectro, inferior, superior)\n",
    "  \n",
    "    #importo la eficiencia\n",
    "\n",
    "    df_eficiencia = pd.read_csv(ruta_eficiencia_csv)\n",
    "\n",
    "    columna1_data = df_eficiencia.iloc[0:-1, 0]\n",
    "    columna2_data = df_eficiencia.iloc[0:-1, 1]\n",
    "    columna3_data = df_eficiencia.iloc[0:-1, 2]\n",
    "\n",
    "    # Convertir los datos a arrays de NumPy\n",
    "    lambdas_eficiencia = np.array(columna1_data)\n",
    "    eficiencia = np.array(columna2_data)\n",
    "    err_eficiencia = np.array(columna3_data)\n",
    "\n",
    "\n",
    "    # filtro la eficiencia en el rango elegido\n",
    "    lambdas_eficiencias_filtrados, eficiencias_filtradas, err_eficiencias_filtradas = filtro_rango_eficiencia(lambdas_eficiencia, eficiencia, err_eficiencia, inferior, superior)\n",
    "\n",
    "    #divido por la eficiencia\n",
    "\n",
    "    espectro_real = espectro_filtrado / eficiencias_filtradas\n",
    "\n",
    "    #propago el error del cociente\n",
    "\n",
    "    err_espectro_real = espectro_real * np.sqrt( (err_espectro_filtrado/espectro_filtrado)**2 + (err_eficiencias_filtradas/eficiencias_filtradas)**2 )\n",
    "\n",
    "    return lambdas_filtrados, espectro_real, err_espectro_real\n",
    "\n",
    "\n",
    "\n",
    "def integrar_señal(x, y, y_err):\n",
    "    integral = np.trapz(y, x)\n",
    "\n",
    "    # error en la integral\n",
    "\n",
    "    # diferencias entre puntos consecutivos\n",
    "    dx = np.diff(x)\n",
    "\n",
    "    # pesos efectivos para cada punto\n",
    "    weights = np.zeros_like(y)\n",
    "    weights[1:-1] = (dx[:-1] + dx[1:]) / 2\n",
    "    weights[0] = dx[0] / 2\n",
    "    weights[-1] = dx[-1] / 2\n",
    "\n",
    "    # varianza e incertidumbre de la integral\n",
    "    integral_var = np.sum((weights * y_err)**2)\n",
    "    integral_err = np.sqrt(integral_var)\n",
    "    \n",
    "    return integral, integral_err\n",
    "\n",
    "\n",
    "\n",
    "\n"
   ]
  },
  {
   "cell_type": "markdown",
   "metadata": {},
   "source": [
    "importamos las respuestas de los conos\n",
    "\n",
    "y las interpolamos para después poder evaluarlas en las longitudes de onda que medimos"
   ]
  },
  {
   "cell_type": "code",
   "execution_count": null,
   "metadata": {},
   "outputs": [],
   "source": [
    "# importamos\n",
    "\n",
    "#S \n",
    "\n",
    "#M\n",
    "\n",
    "#L\n",
    "\n",
    "# interpolamos\n",
    "\n",
    "\n",
    "#graficamos\n"
   ]
  },
  {
   "cell_type": "markdown",
   "metadata": {},
   "source": [
    "Objeto Objeto\n",
    "Azul\n",
    "borrador - marcador"
   ]
  },
  {
   "cell_type": "code",
   "execution_count": 5,
   "metadata": {},
   "outputs": [
    {
     "data": {
      "image/png": "[encoded data removed]",
      "text/plain": [
       "<Figure size 700x400 with 1 Axes>"
      ]
     },
     "metadata": {},
     "output_type": "display_data"
    },
    {
     "data": {
      "image/png": "[encoded data removed]",
      "text/plain": [
       "<Figure size 700x400 with 1 Axes>"
      ]
     },
     "metadata": {},
     "output_type": "display_data"
    }
   ],
   "source": [
    "\n",
    "lambdas_filtrados_borrador, espectro_borrador, err_espectro_borrador = eficientizar(\"/Users/Mauri/Desktop/Labo 5/Espectroscopía difractiva/17-10/objeto-celular/obj-obj/azul (borrador-marcador)/borrador/promedio.csv\", \n",
    "                                                                   \"/Users/Mauri/Desktop/Labo 5/Espectroscopía difractiva/17-10/objeto-celular/obj-obj/azul (borrador-marcador)/borrador/desv\", \n",
    "                                                                   \"/Users/Mauri/Desktop/Labo 5/Espectroscopía difractiva/eficiencia.csv\", \n",
    "                                                                   350, 1000)\n",
    "\n",
    "\n",
    "lambdas_filtrados_marcador, espectro_marcador, err_espectro_marcador = eficientizar(\"/Users/Mauri/Desktop/Labo 5/Espectroscopía difractiva/17-10/objeto-celular/obj-obj/azul (borrador-marcador)/marcador/promedio.csv\", \n",
    "                                                                   \"/Users/Mauri/Desktop/Labo 5/Espectroscopía difractiva/17-10/objeto-celular/obj-obj/azul (borrador-marcador)/marcador/desv\", \n",
    "                                                                   \"/Users/Mauri/Desktop/Labo 5/Espectroscopía difractiva/eficiencia.csv\", \n",
    "                                                                   350, 1000)\n",
    "\n",
    "\n",
    "\n",
    "plt.errorbar(lambdas_filtrados_borrador, espectro_borrador, yerr = err_espectro_borrador, ecolor= 'royalblue', fmt = \".b\", label = 'Datos experimentales')\n",
    "plt.legend()\n",
    "plt.show()\n",
    "\n",
    "\n",
    "\n",
    "lambdas, espectro = cargar_datos(\"/Users/Mauri/Desktop/Labo 5/Espectroscopía difractiva/17-10/objeto-celular/obj-obj/azul (borrador-marcador)/borrador/promedio.csv\")\n",
    "err_espectro = desviaciones(\"/Users/Mauri/Desktop/Labo 5/Espectroscopía difractiva/17-10/objeto-celular/obj-obj/azul (borrador-marcador)/borrador/desv\")\n",
    "\n",
    "# normalizo el espectro medido\n",
    "espectro = espectro / np.max(espectro)\n",
    "err_espectro = err_espectro / np.max(espectro)\n",
    "\n",
    "\n",
    "plt.errorbar(lambdas, espectro, yerr = err_espectro, ecolor= 'royalblue', fmt = \".b\", label = 'Datos sin eficientizar')\n",
    "plt.legend()\n",
    "plt.show()\n",
    "\n",
    "\n",
    "\n",
    "#plt.errorbar(lambdas_filtrados_marcador, espectro_marcador, yerr = err_espectro_marcador, ecolor= 'royalblue', fmt = \".b\", label = 'Datos experimentales')\n",
    "#plt.legend()\n",
    "#plt.show()\n"
   ]
  },
  {
   "cell_type": "markdown",
   "metadata": {},
   "source": [
    "Interpolo las mediciones de los conos y genero el csv con los lambdas y las respuestas de los conos\n",
    "\n"
   ]
  },
  {
   "cell_type": "code",
   "execution_count": 96,
   "metadata": {},
   "outputs": [],
   "source": [
    "data = pd.read_csv(\"/Users/Mauri/Desktop/Labo 5/Espectroscopía difractiva/respuesta conos tabulados/Copia de CIE_lms_cf_2deg.csv\", header = None)\n",
    "\n",
    "long_onda = np.array(data[0])\n",
    "L = np.array(data[1])\n",
    "M = np.array(data[2])\n",
    "S = np.array(data[3])\n"
   ]
  },
  {
   "cell_type": "code",
   "execution_count": 25,
   "metadata": {},
   "outputs": [
    {
     "data": {
      "image/png": "[encoded data removed]",
      "text/plain": [
       "<Figure size 700x400 with 1 Axes>"
      ]
     },
     "metadata": {},
     "output_type": "display_data"
    }
   ],
   "source": [
    "spline_cono_L = UnivariateSpline(long_onda, L, s=0) # calculo la interpolación\n",
    "spline_cono_M= UnivariateSpline(long_onda, M, s=0)\n",
    "spline_cono_S = UnivariateSpline(long_onda, S, s=0)\n",
    "\n",
    "x_fit = np.linspace(long_onda[0], long_onda[-1], 5000)\n",
    "\n",
    "interp_L = spline_cono_L(x_fit)\n",
    "interp_M = spline_cono_M(x_fit)\n",
    "interp_S = spline_cono_S(x_fit)\n",
    "\n",
    "\n",
    "plt.plot(x_fit, interp_L, \".r\")\n",
    "plt.plot(x_fit, interp_M, \".g\")\n",
    "plt.plot(x_fit, interp_S, \".b\")\n",
    "\n",
    "plt.show()\n"
   ]
  },
  {
   "cell_type": "markdown",
   "metadata": {},
   "source": [
    "# Función para analizar\n",
    "\n",
    "Parámetros  \n",
    "`lambdas`  \n",
    "`señal` ( o sea la ruta)  \n",
    "`err_señal` o sea la ruta de la carpeta con los csvs  \n",
    "`eficiencia` ruta con la eficiencia\n",
    "`inferior, superior` límites para el espectro y para la integración (lo ideal sería poner el espectro visible)  \n",
    "`csv con las respuestas de los conos`  \n",
    "`eficientizar` True or False  \n",
    "\n",
    "`txt` True si la carpeta con los errores tienen txt, esto pasó porque al guardar en .spf2, lo pudimos pasar a .txt pero tienen un formato distinto a los csvs\n",
    "\n",
    "devuelve integrales de S, M y L multiplicadas por el espectro\n",
    "\n",
    "también agregamos unas funciones para pasar de sml a srgb y poder ver si los colores coinciden\n",
    "\n",
    "\n",
    "\n",
    "grafica el espectro, ya sea eficientizado o no (esto capaz lo agrego después)"
   ]
  },
  {
   "cell_type": "code",
   "execution_count": 97,
   "metadata": {},
   "outputs": [],
   "source": [
    "def lms_to_srgb(L, M, S, normalize=True):\n",
    "    M_HPE = np.array([[0.4002,0.7076,-0.0808],\n",
    "                      [-0.2263,1.1653,0.0457],\n",
    "                      [0.0000,0.0000,0.9182]])\n",
    "    M_inv = np.linalg.inv(M_HPE)\n",
    "    XYZ = M_inv.dot([L, M, S])\n",
    "    M_xyz_to_srgb = np.array([[3.2406,-1.5372,-0.4986],\n",
    "                           [-0.9689,1.8758,0.0415],\n",
    "                           [0.0557,-0.2040,1.0570]])\n",
    "    rgb_linear = M_xyz_to_srgb.dot(XYZ)\n",
    "    if normalize:\n",
    "        rgb_linear /= np.max(rgb_linear)\n",
    "    rgb_linear = np.clip(rgb_linear, 0, 1)\n",
    "    a = 0.055\n",
    "    rgb = np.where(rgb_linear <= 0.0031308,\n",
    "                   12.92*rgb_linear,\n",
    "                   (1+a)*rgb_linear**(1/2.4)-a)\n",
    "    return (rgb*255).astype(int)\n",
    "\n",
    "\n",
    "def color(rgb):\n",
    "    rgb_norm = rgb / 255  # matplotlib usa [0,1]\n",
    "    # Crear imagen de 1x1 píxel del color\n",
    "    img = np.ones((10, 10, 3)) * rgb_norm  # cuadrado 10x10\n",
    "\n",
    "    plt.imshow(img)\n",
    "    plt.axis('off')\n",
    "    plt.show()\n",
    "\n",
    "\n",
    "\n",
    "def análisis(ruta_espectro, ruta_carpeta_errores, ruta_eficiencia_csv, inferior, superior, csv_conos, eff = True, txt = False):\n",
    "\n",
    "\n",
    "    #Analizo las mediciones, obtengo el espectro, ya sea usando la eficiencia del espectrómetro o no\n",
    "\n",
    "    if eff:\n",
    "        lambdas_filtrados, espectro_real, err_espectro_real = eficientizar(ruta_espectro, ruta_carpeta_errores, ruta_eficiencia_csv, inferior, superior, txt = txt)\n",
    "\n",
    "    else:\n",
    "        lambdas, espectro = cargar_datos(ruta_espectro)\n",
    "        err_espectro = desviaciones(ruta_carpeta_errores, txt = txt)\n",
    "\n",
    "        # normalizo el espectro medido --> Noo, no hay que hacerlo, sino se pierde la relación entre los dos\n",
    "        espectro = espectro / np.max(espectro)\n",
    "        err_espectro = err_espectro / np.max(espectro)\n",
    "\n",
    "        #filtro en el rango elegido\n",
    "        #lo llamo real aunque no tuvimos en cuenta la eficiencia para que ande el resto ya sea eficientizar True o Flase\n",
    "        lambdas_filtrados, espectro_real, err_espectro_real = filtro_rango_eficiencia(lambdas, espectro, err_espectro, inferior, superior)\n",
    "        \n",
    "\n",
    "    #Importamos las respuestas de los conos\n",
    "     #  \n",
    "     # lo ideal sería que no estén normalizadas las tres, sino que una sí y las otras lo estén de manera acorde\n",
    "     # y que ya haya interpolado y evaluado en los lambdas_med\n",
    "     # filtrar en los lambdas filtrados\n",
    "     #\n",
    "     # rta_s, rta_m, rta_l\n",
    "     # err_rta_s, ...\n",
    "        \n",
    "\n",
    "    data = pd.read_csv(csv_conos, header = None)\n",
    "\n",
    "    long_onda = np.array(data[0])\n",
    "    L = np.array(data[1])\n",
    "    M = np.array(data[2])\n",
    "    S = np.array(data[3])\n",
    "\n",
    "    spline_cono_L = UnivariateSpline(long_onda, L, s=0) # calculo la interpolación\n",
    "    spline_cono_M= UnivariateSpline(long_onda, M, s=0)\n",
    "    spline_cono_S = UnivariateSpline(long_onda, S, s=0)\n",
    "\n",
    "    rta_l = spline_cono_L(lambdas_filtrados)\n",
    "    rta_m = spline_cono_M(lambdas_filtrados)\n",
    "    rta_s = spline_cono_S(lambdas_filtrados)\n",
    "\n",
    "\n",
    "    # multiplicamos por las respuestas e integramos\n",
    "        \n",
    "    producto_s = rta_s * espectro_real\n",
    "    err_producto_s = err_espectro_real * rta_s\n",
    "    #err_producto_s = producto_s * np.sqrt( (err_rta_s/rta_s)**2 + (err_espectro_real/espectro_real)**2 ) # si no tienen errores, uso el error de espectro real*rta_s\n",
    "\n",
    "    producto_m = rta_m * espectro_real\n",
    "    err_producto_m = err_espectro_real * rta_m\n",
    "\n",
    "    producto_l = rta_l * espectro_real\n",
    "    err_producto_l = err_espectro_real * rta_l\n",
    "\n",
    "\n",
    "    integral_s, err_s = integrar_señal(lambdas_filtrados, producto_s, err_producto_s)\n",
    "    integral_m, err_m = integrar_señal(lambdas_filtrados, producto_m, err_producto_m)\n",
    "    integral_l, err_l = integrar_señal(lambdas_filtrados, producto_l, err_producto_l)\n",
    "\n",
    "\n",
    "    print(f\"Integral_S = {integral_s:.2f} ± {err_s:.2f}\")\n",
    "    print(f\"Integral_M = {integral_m:.2f} ± {err_m:.2f}\")\n",
    "    print(f\"Integral_L = {integral_l:.2f} ± {err_l:.2f}\")\n",
    "\n",
    "\n",
    "    return integral_s, integral_m, integral_l\n"
   ]
  },
  {
   "cell_type": "code",
   "execution_count": null,
   "metadata": {},
   "outputs": [],
   "source": []
  },
  {
   "cell_type": "markdown",
   "metadata": {},
   "source": [
    "# Objeto - Objeto"
   ]
  },
  {
   "cell_type": "markdown",
   "metadata": {},
   "source": [
    "## rosa\n"
   ]
  },
  {
   "cell_type": "code",
   "execution_count": 45,
   "metadata": {},
   "outputs": [
    {
     "name": "stdout",
     "output_type": "stream",
     "text": [
      "Integral_S = 4.91 ± 0.02\n",
      "Integral_M = 13.94 ± 0.01\n",
      "Integral_L = 33.79 ± 0.02\n",
      "sRGB =  [254   0  51]\n"
     ]
    },
    {
     "data": {
      "image/png": "[encoded data removed]",
      "text/plain": [
       "<Figure size 700x400 with 1 Axes>"
      ]
     },
     "metadata": {},
     "output_type": "display_data"
    }
   ],
   "source": [
    "S, M, L = análisis(\"/Users/Mauri/Desktop/Labo 5/Espectroscopía difractiva/17-10/objeto-celular/obj-obj/rosa (caja-tijera)/caja rosa/promedio.csv\", \n",
    "         \"/Users/Mauri/Desktop/Labo 5/Espectroscopía difractiva/17-10/objeto-celular/obj-obj/rosa (caja-tijera)/caja rosa/desv\", \n",
    "         \"/Users/Mauri/Desktop/Labo 5/Espectroscopía difractiva/eficiencia.csv\", \n",
    "         350, 700, \"/Users/Mauri/Desktop/Labo 5/Espectroscopía difractiva/respuesta conos tabulados/Copia de CIE_lms_cf_2deg.csv\", \n",
    "         eff = True)\n",
    "\n",
    "rgb = lms_to_srgb(L, M, S, normalize=True)\n",
    "\n",
    "print(\"sRGB = \", rgb)\n",
    "\n",
    "color(rgb)\n"
   ]
  },
  {
   "cell_type": "code",
   "execution_count": 44,
   "metadata": {},
   "outputs": [
    {
     "name": "stdout",
     "output_type": "stream",
     "text": [
      "Integral_S = 9.67 ± 0.04\n",
      "Integral_M = 29.69 ± 0.02\n",
      "Integral_L = 54.13 ± 0.03\n",
      "sRGB =  [254  52  59]\n"
     ]
    },
    {
     "data": {
      "image/png": "[encoded data removed]",
      "text/plain": [
       "<Figure size 700x400 with 1 Axes>"
      ]
     },
     "metadata": {},
     "output_type": "display_data"
    }
   ],
   "source": [
    "S, M, L = análisis(\"/Users/Mauri/Desktop/Labo 5/Espectroscopía difractiva/17-10/objeto-celular/obj-obj/rosa (caja-tijera)/tijera rosa/promedio.csv\", \n",
    "         \"/Users/Mauri/Desktop/Labo 5/Espectroscopía difractiva/17-10/objeto-celular/obj-obj/rosa (caja-tijera)/tijera rosa/desv\", \n",
    "         \"/Users/Mauri/Desktop/Labo 5/Espectroscopía difractiva/eficiencia.csv\", \n",
    "         350, 700, \"/Users/Mauri/Desktop/Labo 5/Espectroscopía difractiva/respuesta conos tabulados/Copia de CIE_lms_cf_2deg.csv\", \n",
    "         eff = True)\n",
    "\n",
    "rgb = lms_to_srgb(L, M, S, normalize=True)\n",
    "\n",
    "print(\"sRGB = \", rgb)\n",
    "\n",
    "color(rgb)\n"
   ]
  },
  {
   "cell_type": "markdown",
   "metadata": {},
   "source": [
    "## azul"
   ]
  },
  {
   "cell_type": "code",
   "execution_count": 46,
   "metadata": {},
   "outputs": [
    {
     "name": "stdout",
     "output_type": "stream",
     "text": [
      "Integral_S = 13.87 ± 0.08\n",
      "Integral_M = 31.24 ± 0.15\n",
      "Integral_L = 41.60 ± 0.16\n",
      "sRGB =  [254 140 102]\n"
     ]
    },
    {
     "data": {
      "image/png": "[encoded data removed]",
      "text/plain": [
       "<Figure size 700x400 with 1 Axes>"
      ]
     },
     "metadata": {},
     "output_type": "display_data"
    }
   ],
   "source": [
    "S, M, L = análisis(\"/Users/Mauri/Desktop/Labo 5/Espectroscopía difractiva/17-10/objeto-celular/obj-obj/azul (borrador-marcador)/borrador/promedio.csv\", \n",
    "         \"/Users/Mauri/Desktop/Labo 5/Espectroscopía difractiva/17-10/objeto-celular/obj-obj/azul (borrador-marcador)/borrador/desv\", \n",
    "         \"/Users/Mauri/Desktop/Labo 5/Espectroscopía difractiva/eficiencia.csv\", \n",
    "         350, 700, \"/Users/Mauri/Desktop/Labo 5/Espectroscopía difractiva/respuesta conos tabulados/Copia de CIE_lms_cf_2deg.csv\", \n",
    "         eff = True)\n",
    "\n",
    "rgb = lms_to_srgb(L, M, S, normalize=True)\n",
    "\n",
    "print(\"sRGB = \", rgb)\n",
    "\n",
    "color(rgb)"
   ]
  },
  {
   "cell_type": "code",
   "execution_count": 47,
   "metadata": {},
   "outputs": [
    {
     "name": "stdout",
     "output_type": "stream",
     "text": [
      "Integral_S = 13.12 ± 0.05\n",
      "Integral_M = 49.50 ± 0.04\n",
      "Integral_L = 72.53 ± 0.04\n",
      "sRGB =  [254 116  60]\n"
     ]
    },
    {
     "data": {
      "image/png": "[encoded data removed]",
      "text/plain": [
       "<Figure size 700x400 with 1 Axes>"
      ]
     },
     "metadata": {},
     "output_type": "display_data"
    }
   ],
   "source": [
    "S, M, L = análisis(\"/Users/Mauri/Desktop/Labo 5/Espectroscopía difractiva/17-10/objeto-celular/obj-obj/azul (borrador-marcador)/marcador/promedio.csv\", \n",
    "         \"/Users/Mauri/Desktop/Labo 5/Espectroscopía difractiva/17-10/objeto-celular/obj-obj/azul (borrador-marcador)/marcador/desv\", \n",
    "         \"/Users/Mauri/Desktop/Labo 5/Espectroscopía difractiva/eficiencia.csv\", \n",
    "         350, 700, \"/Users/Mauri/Desktop/Labo 5/Espectroscopía difractiva/respuesta conos tabulados/Copia de CIE_lms_cf_2deg.csv\", \n",
    "         eff = True)\n",
    "\n",
    "rgb = lms_to_srgb(L, M, S, normalize=True)\n",
    "\n",
    "print(\"sRGB = \", rgb)\n",
    "\n",
    "color(rgb)"
   ]
  },
  {
   "cell_type": "markdown",
   "metadata": {},
   "source": [
    "## rojo"
   ]
  },
  {
   "cell_type": "code",
   "execution_count": 48,
   "metadata": {},
   "outputs": [
    {
     "name": "stdout",
     "output_type": "stream",
     "text": [
      "Integral_S = 1.28 ± 0.02\n",
      "Integral_M = 8.53 ± 0.01\n",
      "Integral_L = 28.33 ± 0.02\n",
      "sRGB =  [254   0  17]\n"
     ]
    },
    {
     "data": {
      "image/png": "[encoded data removed]",
      "text/plain": [
       "<Figure size 700x400 with 1 Axes>"
      ]
     },
     "metadata": {},
     "output_type": "display_data"
    }
   ],
   "source": [
    "S, M, L = análisis(\"/Users/Mauri/Desktop/Labo 5/Espectroscopía difractiva/17-10/objeto-celular/obj-obj/rojo (lápiz-microfibra)/lápiz/promedio.csv\", \n",
    "         \"/Users/Mauri/Desktop/Labo 5/Espectroscopía difractiva/17-10/objeto-celular/obj-obj/rojo (lápiz-microfibra)/lápiz/desv\", \n",
    "         \"/Users/Mauri/Desktop/Labo 5/Espectroscopía difractiva/eficiencia.csv\", \n",
    "         350, 700, \"/Users/Mauri/Desktop/Labo 5/Espectroscopía difractiva/respuesta conos tabulados/Copia de CIE_lms_cf_2deg.csv\", \n",
    "         eff = True)\n",
    "\n",
    "rgb = lms_to_srgb(L, M, S, normalize=True)\n",
    "\n",
    "print(\"sRGB = \", rgb)\n",
    "\n",
    "color(rgb)"
   ]
  },
  {
   "cell_type": "code",
   "execution_count": 49,
   "metadata": {},
   "outputs": [
    {
     "name": "stdout",
     "output_type": "stream",
     "text": [
      "Integral_S = 4.00 ± 0.03\n",
      "Integral_M = 22.30 ± 0.02\n",
      "Integral_L = 47.82 ± 0.03\n",
      "sRGB =  [254   0  27]\n"
     ]
    },
    {
     "data": {
      "image/png": "[encoded data removed]",
      "text/plain": [
       "<Figure size 700x400 with 1 Axes>"
      ]
     },
     "metadata": {},
     "output_type": "display_data"
    }
   ],
   "source": [
    "S, M, L = análisis(\"/Users/Mauri/Desktop/Labo 5/Espectroscopía difractiva/17-10/objeto-celular/obj-obj/rojo (lápiz-microfibra)/microfibra/promedio.csv\", \n",
    "         \"/Users/Mauri/Desktop/Labo 5/Espectroscopía difractiva/17-10/objeto-celular/obj-obj/rojo (lápiz-microfibra)/microfibra/desv\", \n",
    "         \"/Users/Mauri/Desktop/Labo 5/Espectroscopía difractiva/eficiencia.csv\", \n",
    "         350, 700, \"/Users/Mauri/Desktop/Labo 5/Espectroscopía difractiva/respuesta conos tabulados/Copia de CIE_lms_cf_2deg.csv\", \n",
    "         eff = True)\n",
    "\n",
    "rgb = lms_to_srgb(L, M, S, normalize=True)\n",
    "\n",
    "print(\"sRGB = \", rgb)\n",
    "\n",
    "color(rgb)\n"
   ]
  },
  {
   "cell_type": "markdown",
   "metadata": {},
   "source": [
    "## verde"
   ]
  },
  {
   "cell_type": "code",
   "execution_count": null,
   "metadata": {},
   "outputs": [],
   "source": []
  },
  {
   "cell_type": "code",
   "execution_count": null,
   "metadata": {},
   "outputs": [],
   "source": []
  },
  {
   "cell_type": "markdown",
   "metadata": {},
   "source": [
    "# Celular Celular"
   ]
  },
  {
   "cell_type": "markdown",
   "metadata": {},
   "source": [
    "## Azul"
   ]
  },
  {
   "cell_type": "code",
   "execution_count": 93,
   "metadata": {},
   "outputs": [
    {
     "name": "stdout",
     "output_type": "stream",
     "text": [
      "Integral_S = 30.12 ± 0.14\n",
      "Integral_M = 8.03 ± 0.03\n",
      "Integral_L = 5.57 ± 0.01\n",
      "sRGB =  [  0 126 254]\n"
     ]
    },
    {
     "data": {
      "image/png": "[encoded data removed]",
      "text/plain": [
       "<Figure size 700x400 with 1 Axes>"
      ]
     },
     "metadata": {},
     "output_type": "display_data"
    }
   ],
   "source": [
    "S, M, L = análisis(\"/Users/Mauri/Desktop/Labo 5/Espectroscopía difractiva/17-10/objeto-celular/cel-cel/azul/Martu/promedio.csv\", \n",
    "         \"/Users/Mauri/Desktop/Labo 5/Espectroscopía difractiva/17-10/objeto-celular/cel-cel/azul/Martu/desv\", \n",
    "         \"/Users/Mauri/Desktop/Labo 5/Espectroscopía difractiva/eficiencia.csv\", \n",
    "         350, 700, \"/Users/Mauri/Desktop/Labo 5/Espectroscopía difractiva/respuesta conos tabulados/Copia de CIE_lms_cf_2deg.csv\", \n",
    "         eff = True)\n",
    "\n",
    "rgb = lms_to_srgb(L, M, S, normalize=True)\n",
    "\n",
    "print(\"sRGB = \", rgb)\n",
    "\n",
    "color(rgb)"
   ]
  },
  {
   "cell_type": "markdown",
   "metadata": {},
   "source": [
    "## rosa"
   ]
  },
  {
   "cell_type": "code",
   "execution_count": 94,
   "metadata": {},
   "outputs": [
    {
     "name": "stdout",
     "output_type": "stream",
     "text": [
      "Integral_S = 3.11 ± 0.01\n",
      "Integral_M = 4.26 ± 0.00\n",
      "Integral_L = 14.74 ± 0.01\n",
      "sRGB =  [254   0  64]\n"
     ]
    },
    {
     "data": {
      "image/png": "[encoded data removed]",
      "text/plain": [
       "<Figure size 700x400 with 1 Axes>"
      ]
     },
     "metadata": {},
     "output_type": "display_data"
    }
   ],
   "source": [
    "S, M, L = análisis(\"/Users/Mauri/Desktop/Labo 5/Espectroscopía difractiva/17-10/objeto-celular/cel-cel/rosa/Martu/promedio.csv\", \n",
    "         \"/Users/Mauri/Desktop/Labo 5/Espectroscopía difractiva/17-10/objeto-celular/cel-cel/rosa/Martu/desv_txt\", \n",
    "         \"/Users/Mauri/Desktop/Labo 5/Espectroscopía difractiva/eficiencia.csv\", \n",
    "         350, 700, \"/Users/Mauri/Desktop/Labo 5/Espectroscopía difractiva/respuesta conos tabulados/Copia de CIE_lms_cf_2deg.csv\", \n",
    "         eff = True, txt = True)\n",
    "\n",
    "rgb = lms_to_srgb(L, M, S, normalize=True)\n",
    "\n",
    "print(\"sRGB = \", rgb)\n",
    "\n",
    "color(rgb)"
   ]
  },
  {
   "cell_type": "code",
   "execution_count": null,
   "metadata": {},
   "outputs": [],
   "source": []
  }
 ],
 "metadata": {
  "kernelspec": {
   "display_name": "entorno_completo",
   "language": "python",
   "name": "python3"
  },
  "language_info": {
   "codemirror_mode": {
    "name": "ipython",
    "version": 3
   },
   "file_extension": ".py",
   "mimetype": "text/x-python",
   "name": "python",
   "nbconvert_exporter": "python",
   "pygments_lexer": "ipython3",
   "version": "3.12.4"
  }
 },
 "nbformat": 4,
 "nbformat_minor": 2
}
